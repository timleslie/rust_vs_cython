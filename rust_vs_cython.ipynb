{
 "cells": [
  {
   "cell_type": "code",
   "execution_count": null,
   "id": "1adb13a0-31cd-4d82-af24-aea90acf18ae",
   "metadata": {
    "tags": []
   },
   "outputs": [],
   "source": [
    "import builtins\n",
    "import line_profiler as lp\n",
    "import pandas as pd\n",
    "import numpy as np\n",
    "import plotly.graph_objs as go\n",
    "from plotly.subplots import make_subplots"
   ]
  },
  {
   "cell_type": "code",
   "execution_count": null,
   "id": "7882e6fb-a028-4e3c-ab3e-05abc1305490",
   "metadata": {
    "tags": []
   },
   "outputs": [],
   "source": [
    "def execfile(filename, globals=None, locals=None):\n",
    "    exec_ = getattr(builtins, \"exec\")\n",
    "    with open(filename, \"rb\") as f:\n",
    "        exec_(compile(f.read(), filename, \"exec\"), globals, locals)\n",
    "\n",
    "\n",
    "def run_experiment(params, repeat=3):\n",
    "    prof = lp.LineProfiler()\n",
    "    builtins.__dict__[\"profile\"] = prof\n",
    "\n",
    "    results = {\"rust\": {}, \"python\": {}, \"generate\": {}}\n",
    "    for (N, k) in params:\n",
    "        rr, pp = 0, 0\n",
    "        for _ in range(repeat):\n",
    "            ns = {\"N\": N, \"k\": k}\n",
    "            execfile(\"benchmark.py\", ns, ns)\n",
    "            s = prof.get_stats()\n",
    "            t = s.timings\n",
    "\n",
    "            rust = [k for k in t.keys() if k[2] == \"rust\"][0]\n",
    "            python = [k for k in t.keys() if k[2] == \"python\"][0]\n",
    "\n",
    "            rr += t[rust][0][2] * s.unit\n",
    "            pp += t[python][0][2] * s.unit\n",
    "\n",
    "        results[\"rust\"][(N, k)] = rr / repeat\n",
    "        results[\"python\"][(N, k)] = pp / repeat\n",
    "\n",
    "        yield results\n",
    "\n",
    "def fixed_k(k, a, b):\n",
    "    \"\"\"\n",
    "    Generate params with a fixed value of k\n",
    "    \n",
    "    V = N, E = N*k/2\n",
    "    \"\"\"\n",
    "    return [(int(2 ** (i / 2)), k) for i in range(a, b)]\n",
    "\n",
    "def proportional_k(ratio, a, b):\n",
    "    \"\"\" Generate params with a proportional value of k\n",
    "    \n",
    "    V = N, k = ratio*N, E = N^2*ratio/2\n",
    "    \"\"\"\n",
    "    return [(int(2 ** (i / 2)), int(int(2 ** (i / 2)) * ratio)) for i in range(a, b)]\n",
    "\n",
    "def fixed_n(N, a, b):\n",
    "    \"\"\"\n",
    "    Generate params with a fixed value of N\n",
    "    \n",
    "    V = N, E = N*k/2\n",
    "    \"\"\"\n",
    "    return [(N, int(2 ** (i / 2))) for i in range(a, b)]\n",
    "    \n",
    "    \n",
    "def plot_data(data, fig, x_key='N'):\n",
    "    df = pd.DataFrame.from_dict(data)\n",
    "    if x_key=='N':\n",
    "        x = [xx[0] for xx in np.array(df.index)]\n",
    "    else:\n",
    "        x = [xx[1] for xx in np.array(df.index)]\n",
    "    fig.data[0].x = x\n",
    "    fig.data[0].y = np.array(df.rust)\n",
    "\n",
    "    fig.data[1].x = x\n",
    "    fig.data[1].y = np.array(df.python)\n",
    "\n",
    "    fig.data[2].x = x\n",
    "    fig.data[2].y = np.array(df.rust/df.python)\n",
    "\n",
    "    \n",
    "def setup_plots(title, x_label):\n",
    "    fig = go.FigureWidget(make_subplots(rows=2, cols=1, subplot_titles =[\"Performance\", \"Rust relative time (Cython = 1.0)\"]))\n",
    "\n",
    "    \n",
    "    fig.add_trace(go.Scatter({}, name=\"Rust\"), row=1, col=1)\n",
    "    fig.add_trace(go.Scatter({}, name=\"Cython\"), row=1, col=1)\n",
    "    fig.add_trace(go.Scatter({}, name=\"Relative\"), row=2, col=1)\n",
    "    fig.update_layout(height=600, width=800, title_text=f\"Rust vs Cython - {title}\")\n",
    "    # Log-x/y\n",
    "    fig.update_xaxes(type=\"log\", title_text=x_label, row=1, col=1)\n",
    "    fig.update_yaxes(type=\"log\", title_text=\"time (s)\", row=1, col=1)\n",
    "    \n",
    "    # Log-x\n",
    "    fig.update_xaxes(type=\"log\", title_text=x_label, row=2, col=1)\n",
    "    fig.update_yaxes(title_text=\"relative time\", range=[0, 1.1], row=2, col=1)\n",
    "    \n",
    "    return fig"
   ]
  },
  {
   "cell_type": "markdown",
   "id": "d726082d-3a40-49a9-8ecc-dade9d363d34",
   "metadata": {},
   "source": [
    "## Fixed k = 10 experiment"
   ]
  },
  {
   "cell_type": "code",
   "execution_count": null,
   "id": "eb208ac3-a9ca-4d2d-bfc1-162b6a255661",
   "metadata": {},
   "outputs": [],
   "source": [
    "params = fixed_k(10, 15, 40)\n",
    "fig = setup_plots('Fixed k = 10', 'N')\n",
    "fig"
   ]
  },
  {
   "cell_type": "code",
   "execution_count": null,
   "id": "147a591f-8ea3-40bb-b906-0734656fd80a",
   "metadata": {},
   "outputs": [],
   "source": [
    "for partial_result in run_experiment(params, 3):\n",
    "   plot_data(partial_result, fig, 'N')"
   ]
  },
  {
   "cell_type": "markdown",
   "id": "7e631ba2-a31d-4190-94a8-fa3e34457f86",
   "metadata": {},
   "source": [
    "## Proportional k = 0.01% experiment"
   ]
  },
  {
   "cell_type": "code",
   "execution_count": null,
   "id": "b4c778ea-54bf-40b2-af80-04733fab55be",
   "metadata": {},
   "outputs": [],
   "source": [
    "params = proportional_k(0.001, 20, 35)\n",
    "fig = setup_plots('Proportional k = 0.1%', 'N')\n",
    "fig"
   ]
  },
  {
   "cell_type": "code",
   "execution_count": null,
   "id": "b9b16d7b-be63-4bd3-a91e-2f7234e5e400",
   "metadata": {},
   "outputs": [],
   "source": [
    "for partial_result in run_experiment(params, 3):\n",
    "   plot_data(partial_result, fig, 'N')"
   ]
  },
  {
   "cell_type": "markdown",
   "id": "af8d456a-86c9-40ff-b3a8-f74bf25dfa14",
   "metadata": {},
   "source": [
    "## Fixed N = 100,000 experiment"
   ]
  },
  {
   "cell_type": "code",
   "execution_count": null,
   "id": "9b5d6e08-94ca-4235-9de1-2e1119d9f6da",
   "metadata": {},
   "outputs": [],
   "source": [
    "params = fixed_n(100_000, 1, 22)\n",
    "fig = setup_plots('Fixed N = 100,000', 'k')\n",
    "fig"
   ]
  },
  {
   "cell_type": "code",
   "execution_count": null,
   "id": "d254ea92-e3f6-4663-9a2e-fae3c26df662",
   "metadata": {},
   "outputs": [],
   "source": [
    "for partial_result in run_experiment(params, 3):\n",
    "   plot_data(partial_result, fig, 'k')"
   ]
  },
  {
   "cell_type": "code",
   "execution_count": null,
   "id": "73e7d0d4-aba3-472f-8085-c677ab23fc6f",
   "metadata": {},
   "outputs": [],
   "source": []
  }
 ],
 "metadata": {
  "kernelspec": {
   "display_name": "Python 3 (ipykernel)",
   "language": "python",
   "name": "python3"
  },
  "language_info": {
   "codemirror_mode": {
    "name": "ipython",
    "version": 3
   },
   "file_extension": ".py",
   "mimetype": "text/x-python",
   "name": "python",
   "nbconvert_exporter": "python",
   "pygments_lexer": "ipython3",
   "version": "3.9.6"
  }
 },
 "nbformat": 4,
 "nbformat_minor": 5
}
